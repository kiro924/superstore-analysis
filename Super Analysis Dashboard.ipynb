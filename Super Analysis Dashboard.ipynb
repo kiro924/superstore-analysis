{
 "cells": [
  {
   "cell_type": "code",
   "execution_count": 64,
   "id": "fc9920ea-0587-4229-ba0b-eb1fa104c7b1",
   "metadata": {},
   "outputs": [
    {
     "name": "stdout",
     "output_type": "stream",
     "text": [
      "[WinError 2] The system cannot find the file specified: 'multipage5'\n",
      "D:\\Data Analysis\\Session 47 Preprocessing Part 7\\multipage5\n"
     ]
    }
   ],
   "source": [
    "#%mkdir multipage5\n",
    "%cd multipage5"
   ]
  },
  {
   "cell_type": "code",
   "execution_count": 65,
   "id": "9d6d5545-090e-4be4-95c2-c897425b4e0c",
   "metadata": {},
   "outputs": [
    {
     "name": "stdout",
     "output_type": "stream",
     "text": [
      "Overwriting Overview.py\n"
     ]
    }
   ],
   "source": [
    "%%writefile Overview.py\n",
    "\n",
    "import pandas as pd\n",
    "import plotly.graph_objects as go\n",
    "import plotly.express as px\n",
    "import streamlit as st\n",
    "\n",
    "st.set_page_config(layout='wide',\n",
    "                  page_title='Sales Overview'\n",
    "                   )\n",
    "\n",
    "x=pd.read_csv('Super Store Analysis Modified')\n",
    "df=pd.DataFrame(x)\n",
    "\n",
    "st.markdown(\n",
    "    f\"<h3 style='color: purple; font-weight: bold; font-size: 40px; text-align: center;'>Store Sales Overview</h3>\", \n",
    "    unsafe_allow_html=True\n",
    ")\n",
    "\n",
    "col1, col2, col3, col4, col5, col6=st.columns(6)\n",
    "\n",
    "col1.markdown(f\"<h3 style='color: white;'>Total Sales {int(df['Sales'].sum()):,}</h3>\", unsafe_allow_html=True)\n",
    "\n",
    "col2.markdown(f\"<h3 style='color: white;'>Total Customers {df['Customer Name'].nunique()}</h3>\", unsafe_allow_html=True)\n",
    "\n",
    "col3.markdown(f\"<h3 style='color: white;'>New York City {252463:,}</h3>\", unsafe_allow_html=True)\n",
    "\n",
    "col4.markdown(f\"<h3 style='color: white;'>November {350162:,}</h3>\", unsafe_allow_html=True)\n",
    "\n",
    "col5.markdown(f\"<h3 style='color: white;'>2018<br>{722052:,}</h3>\", unsafe_allow_html=True)\n",
    "\n",
    "col6.markdown(f\"<h3 style='color: white;'>Saturday {420905:,}</h3>\", unsafe_allow_html=True)\n",
    "\n",
    "col1, col2, col3=st.columns([4,4,4])\n",
    "\n",
    "top_cities=df.groupby('City')['Sales'].sum().astype(int).sort_values(ascending=False).head(10).round()\n",
    "fig1=go.Figure()\n",
    "fig1.add_trace(go.Bar(x=top_cities.index,\n",
    "                      y=top_cities.values,\n",
    "                      marker=dict(color=px.colors.qualitative.Bold[1])\n",
    "                     ))\n",
    "\n",
    "fig1.update_layout(\n",
    "title=\"Top 10 Cities by Sales\",\n",
    "xaxis_title=\"City\",\n",
    "yaxis_title=\"Sales\")\n",
    "col1.plotly_chart(fig1)\n",
    "\n",
    "top_years=df.groupby('Year')['Sales'].sum().astype(int).sort_values(ascending=False).round()\n",
    "fig2=go.Figure()\n",
    "fig2.add_trace(go.Bar(x=top_years.index,\n",
    "                      y=top_years.values,\n",
    "                      marker=dict(color=px.colors.qualitative.Bold[1])\n",
    "                     ))\n",
    "\n",
    "fig2.update_layout(\n",
    "title=\"Total Sales In Each Year\",\n",
    "xaxis_title=\"Years\",\n",
    "yaxis_title=\"Sales\")\n",
    "col2.plotly_chart(fig2)\n",
    "\n",
    "top_days=df.groupby('Day')['Sales'].sum().astype(int).sort_values(ascending=False).round()\n",
    "fig3 = go.Figure()\n",
    "fig3.add_trace(go.Scatter(\n",
    "    x=top_days.index,  \n",
    "    y=top_days.values,  \n",
    "    mode='lines+markers',  \n",
    "    line=dict(color=px.colors.qualitative.Bold[1])  \n",
    "))\n",
    "\n",
    "fig3.update_layout(\n",
    "    title=\"Total Sales In Each Day\",\n",
    "    xaxis_title=\"Days\",\n",
    "    yaxis_title=\"Sales\"\n",
    ")\n",
    "\n",
    "col3.plotly_chart(fig3)"
   ]
  },
  {
   "cell_type": "code",
   "execution_count": 66,
   "id": "1ec76bc3-96cf-4d15-834b-fa06616dbdd1",
   "metadata": {},
   "outputs": [
    {
     "name": "stdout",
     "output_type": "stream",
     "text": [
      "D:\\Data Analysis\\Session 47 Preprocessing Part 7\\multipage5\\pages\n"
     ]
    }
   ],
   "source": [
    "#%mkdir pages\n",
    "%cd pages"
   ]
  },
  {
   "cell_type": "code",
   "execution_count": 67,
   "id": "7cb7864d-61ac-4318-bc34-550105fceeee",
   "metadata": {},
   "outputs": [
    {
     "name": "stdout",
     "output_type": "stream",
     "text": [
      "Overwriting Charts.py\n"
     ]
    }
   ],
   "source": [
    "%%writefile Charts.py\n",
    "\n",
    "import pandas as pd\n",
    "import plotly.graph_objects as go\n",
    "import plotly.express as px\n",
    "import streamlit as st\n",
    "\n",
    "st.set_page_config(layout='wide',\n",
    "                  page_title='Charts'\n",
    "                  )\n",
    "\n",
    "x=pd.read_csv('Super Store Analysis Modified')\n",
    "df=pd.DataFrame(x)\n",
    "tab1, tab2= st.tabs(['Bi Variate Analysis','Multi Variate Analysis'])\n",
    "\n",
    "with tab1:\n",
    "\n",
    "    col1, col2=st.columns([4,4])\n",
    "    \n",
    "    top_years=df.groupby('Year')['Sales'].sum().astype(int).sort_values(ascending=False).round()\n",
    "    fig1 = go.Figure()\n",
    "    fig1.add_trace(go.Scatter(\n",
    "        x=top_years.index,  \n",
    "        y=top_years.values,\n",
    "        mode='lines+markers',\n",
    "        marker=dict(color=px.colors.qualitative.Bold[0])  \n",
    "    ))\n",
    "    \n",
    "    fig1.update_layout(\n",
    "        title=\"Total Sales In Each Year\",\n",
    "        xaxis_title=\"Years\",\n",
    "        yaxis_title=\"Sales\"\n",
    "    )\n",
    "    col1.plotly_chart(fig1)\n",
    "\n",
    "    top_months=df.groupby('Month')['Sales'].sum().astype(int).sort_values(ascending=False).round()\n",
    "    fig2 = go.Figure()\n",
    "    fig2.add_trace(go.Scatter(\n",
    "        x=top_months.index,  \n",
    "        y=top_months.values,\n",
    "        mode='lines+markers',\n",
    "        marker=dict(color=px.colors.qualitative.Bold[1])  \n",
    "    ))\n",
    "    \n",
    "    fig2.update_layout(\n",
    "        title=\"Total Sales In Each Month\",\n",
    "        xaxis_title=\"Months\",\n",
    "        yaxis_title=\"Sales\"\n",
    "    )\n",
    "    col2.plotly_chart(fig2)\n",
    "    \n",
    "    \n",
    "    top_days=df.groupby('Day')['Sales'].sum().astype(int).sort_values(ascending=False).round()\n",
    "    fig3 = go.Figure()\n",
    "    fig3.add_trace(go.Scatter(\n",
    "        x=top_days.index,  \n",
    "        y=top_days.values,\n",
    "        mode='lines+markers',\n",
    "        marker=dict(color=px.colors.qualitative.Bold[0])  \n",
    "    ))\n",
    "    \n",
    "    fig3.update_layout(\n",
    "        title=\"Total Sales In Each Month\",\n",
    "        xaxis_title=\"Days\",\n",
    "        yaxis_title=\"Sales\"\n",
    "    )\n",
    "    col1.plotly_chart(fig3)\n",
    "    \n",
    "    \n",
    "    top_ship_mode=df.groupby('Ship Mode')['Sales'].sum().astype(int).sort_values(ascending=False).round()\n",
    "    fig4 = go.Figure()\n",
    "    fig4.add_trace(go.Bar(\n",
    "        x=top_ship_mode.index,  \n",
    "        y=top_ship_mode.values,    \n",
    "        marker=dict(color=px.colors.qualitative.Bold[1])  \n",
    "    ))\n",
    "    \n",
    "    fig4.update_layout(\n",
    "        title=\"Total Sales In Each Ship Mode\",\n",
    "        xaxis_title=\"Ship Modes\",\n",
    "        yaxis_title=\"Sales\"\n",
    "    )\n",
    "    col2.plotly_chart(fig4)\n",
    "    \n",
    "    top_cities=df.groupby('City')['Sales'].sum().astype(int).sort_values(ascending=False).round().head(10)\n",
    "    fig5 = go.Figure()\n",
    "    fig5.add_trace(go.Bar(\n",
    "        x=top_cities.index,  \n",
    "        y=top_cities.values,    \n",
    "        marker=dict(color=px.colors.qualitative.Bold[0])  \n",
    "    ))\n",
    "    \n",
    "    fig5.update_layout(\n",
    "        title=\"Total Sales In Each City\",\n",
    "        xaxis_title=\"Cities\",\n",
    "        yaxis_title=\"Sales\"\n",
    "    )\n",
    "    col1.plotly_chart(fig5)\n",
    "    \n",
    "    top_states=df.groupby('State')['Sales'].sum().astype(int).sort_values(ascending=False).round().head(10)\n",
    "    fig6 = go.Figure()\n",
    "    fig6.add_trace(go.Bar(\n",
    "        x=top_states.index,  \n",
    "        y=top_states.values,    \n",
    "        marker=dict(color=px.colors.qualitative.Bold[1])  \n",
    "    ))\n",
    "    \n",
    "    fig6.update_layout(\n",
    "        title=\"Total Sales In Each State\",\n",
    "        xaxis_title=\"States\",\n",
    "        yaxis_title=\"Sales\"\n",
    "    )\n",
    "    col2.plotly_chart(fig6)\n",
    "    \n",
    "    top_regions=df.groupby('Region')['Sales'].sum().astype(int).sort_values(ascending=False).round()\n",
    "    fig7 = go.Figure()\n",
    "    fig7.add_trace(go.Bar(\n",
    "        x=top_regions.index,  \n",
    "        y=top_regions.values,    \n",
    "        marker=dict(color=px.colors.qualitative.Bold[0])  \n",
    "    ))\n",
    "    \n",
    "    fig7.update_layout(\n",
    "        title=\"Total Sales In Each Region\",\n",
    "        xaxis_title=\"Regions\",\n",
    "        yaxis_title=\"Sales\"\n",
    "    )\n",
    "    col1.plotly_chart(fig7)\n",
    "    \n",
    "    fig8=px.pie(df,\n",
    "               names='Category',\n",
    "               color_discrete_sequence=px.colors.qualitative.Bold,\n",
    "               )\n",
    "    fig8.update_layout(\n",
    "        title=\"The Percentage Of Each Category\"\n",
    "    )\n",
    "    col2.plotly_chart(fig8)\n",
    "\n",
    "\n",
    "with tab2:\n",
    "    col1, col2=st.columns([2,2])\n",
    "\n",
    "    top_products = df.groupby(['Product Name', 'Season'])[['Sales']].sum().sort_values(ascending=False, by='Sales').reset_index().head(28)    \n",
    "    fig1 = px.bar(top_products, \n",
    "                 x='Product Name', \n",
    "                 y='Sales', \n",
    "                 color='Season', \n",
    "                 title=\"Top 10 Products By Sales And Season\",\n",
    "                 color_discrete_sequence=px.colors.qualitative.Bold\n",
    "                 )\n",
    "    col1.plotly_chart(fig1)\n",
    "\n",
    "    top_categories= df.groupby(['Category', 'Season'])[['Sales']].sum().sort_values(ascending=False, by='Sales').reset_index()\n",
    "    fig3 = px.bar(top_categories, \n",
    "                 x='Category', \n",
    "                 y='Sales', \n",
    "                 color='Season',  \n",
    "                 title=\"Top 10 Amount Of Model Name by Return Season\",\n",
    "                 color_discrete_sequence=px.colors.qualitative.Bold  \n",
    "                )\n",
    "    \n",
    "    col2.plotly_chart(fig3)\n",
    "\n",
    "\n",
    "    top_months= df.groupby(['Month Name', 'Season'])[['Sales']].sum().sort_values(ascending=False, by='Sales').reset_index()    \n",
    "    fig4 = px.bar(top_months, \n",
    "                 x='Month Name', \n",
    "                 y='Sales', \n",
    "                 color='Season',  \n",
    "                 title=\"profit in months and continent\", \n",
    "                 color_discrete_sequence=px.colors.qualitative.Bold\n",
    "                )\n",
    "    col1.plotly_chart(fig4)\n",
    "\n",
    "    top_months= df.groupby(['Day', 'Season'])[['Sales']].sum().sort_values(ascending=False, by='Sales').reset_index()    \n",
    "    fig4 = px.bar(top_months, \n",
    "                 x='Day', \n",
    "                 y='Sales', \n",
    "                 color='Season',  \n",
    "                 title=\"Profit In Days And Continent\", \n",
    "                 color_discrete_sequence=px.colors.qualitative.Dark2\n",
    "                )\n",
    "    col2.plotly_chart(fig4)\n"
   ]
  },
  {
   "cell_type": "code",
   "execution_count": null,
   "id": "5c6dab5a-9664-418b-9166-04d191b97c34",
   "metadata": {},
   "outputs": [
    {
     "name": "stdout",
     "output_type": "stream",
     "text": [
      "D:\\Data Analysis\\Session 47 Preprocessing Part 7\\multipage5\n"
     ]
    }
   ],
   "source": [
    "%cd ..\n",
    "!streamlit run Overview.py"
   ]
  },
  {
   "cell_type": "code",
   "execution_count": 25,
   "id": "d69589a9-e446-4c68-a5ee-be45be068cd2",
   "metadata": {},
   "outputs": [],
   "source": [
    "import pandas as pd\n",
    "import plotly.graph_objects as go\n",
    "import plotly.express as px\n",
    "x=pd.read_csv('Super Store Analysis Modified')\n",
    "df=pd.DataFrame(x)"
   ]
  },
  {
   "cell_type": "code",
   "execution_count": 7,
   "id": "8cbb6976-dba5-4720-8558-8cdbfe87c27c",
   "metadata": {},
   "outputs": [
    {
     "data": {
      "text/plain": [
       "Index(['Row ID', 'Order Date', 'Ship Date', 'Ship Mode', 'Customer Name',\n",
       "       'Segment', 'Country', 'City', 'State', 'Region', 'Category',\n",
       "       'Sub-Category', 'Product Name', 'Sales', 'Year', 'Month', 'Month Name',\n",
       "       'Day', 'Shiping Duration', 'Season'],\n",
       "      dtype='object')"
      ]
     },
     "execution_count": 7,
     "metadata": {},
     "output_type": "execute_result"
    }
   ],
   "source": [
    "df.columns"
   ]
  },
  {
   "cell_type": "code",
   "execution_count": 8,
   "id": "74d528bb-7f27-47d1-a5a0-4d9cb2de28f5",
   "metadata": {},
   "outputs": [
    {
     "data": {
      "text/plain": [
       "array(['Furniture', 'Office Supplies', 'Technology'], dtype=object)"
      ]
     },
     "execution_count": 8,
     "metadata": {},
     "output_type": "execute_result"
    }
   ],
   "source": [
    "df['Category'].unique()"
   ]
  },
  {
   "cell_type": "code",
   "execution_count": 9,
   "id": "2f437b91-0ba7-4814-ac5b-abc4900835fe",
   "metadata": {},
   "outputs": [
    {
     "name": "stdout",
     "output_type": "stream",
     "text": [
      "<class 'pandas.core.frame.DataFrame'>\n",
      "RangeIndex: 9800 entries, 0 to 9799\n",
      "Data columns (total 20 columns):\n",
      " #   Column            Non-Null Count  Dtype  \n",
      "---  ------            --------------  -----  \n",
      " 0   Row ID            9800 non-null   int64  \n",
      " 1   Order Date        9800 non-null   object \n",
      " 2   Ship Date         9800 non-null   object \n",
      " 3   Ship Mode         9800 non-null   object \n",
      " 4   Customer Name     9800 non-null   object \n",
      " 5   Segment           9800 non-null   object \n",
      " 6   Country           9800 non-null   object \n",
      " 7   City              9800 non-null   object \n",
      " 8   State             9800 non-null   object \n",
      " 9   Region            9800 non-null   object \n",
      " 10  Category          9800 non-null   object \n",
      " 11  Sub-Category      9800 non-null   object \n",
      " 12  Product Name      9800 non-null   object \n",
      " 13  Sales             9800 non-null   float64\n",
      " 14  Year              9800 non-null   int64  \n",
      " 15  Month             9800 non-null   int64  \n",
      " 16  Month Name        9800 non-null   object \n",
      " 17  Day               9800 non-null   object \n",
      " 18  Shiping Duration  9800 non-null   float64\n",
      " 19  Season            9800 non-null   object \n",
      "dtypes: float64(2), int64(3), object(15)\n",
      "memory usage: 1.5+ MB\n"
     ]
    }
   ],
   "source": [
    "x=pd.read_csv('Super Store Analysis Modified')\n",
    "df=pd.DataFrame(x)\n",
    "\n",
    "df.info()"
   ]
  },
  {
   "cell_type": "code",
   "execution_count": 10,
   "id": "67513b2c-e8d3-4720-9415-7ce8d85b7a12",
   "metadata": {},
   "outputs": [
    {
     "data": {
      "text/plain": [
       "City\n",
       "New York City    252462\n",
       "Los Angeles      173420\n",
       "Seattle          116106\n",
       "San Francisco    109037\n",
       "Philadelphia     108847\n",
       "Houston           63956\n",
       "Chicago           47820\n",
       "San Diego         47521\n",
       "Jacksonville      44713\n",
       "Detroit           42446\n",
       "Name: Sales, dtype: int64"
      ]
     },
     "execution_count": 10,
     "metadata": {},
     "output_type": "execute_result"
    }
   ],
   "source": [
    "(df.groupby('City')['Sales'].sum().astype(int).sort_values(ascending=False).head(10).round())"
   ]
  },
  {
   "cell_type": "code",
   "execution_count": 11,
   "id": "cd066cf7-7fe9-4f37-88fc-c1fa2d9d0efa",
   "metadata": {},
   "outputs": [
    {
     "name": "stderr",
     "output_type": "stream",
     "text": [
      "C:\\Users\\kiro\\AppData\\Local\\Temp\\ipykernel_8864\\1762620536.py:1: FutureWarning: Series.__getitem__ treating keys as positions is deprecated. In a future version, integer keys will always be treated as labels (consistent with DataFrame behavior). To access a value by position, use `ser.iloc[pos]`\n",
      "  df.groupby('Month Name')['Sales'].sum().sort_values(ascending=False).head(1)[0].round()\n"
     ]
    },
    {
     "data": {
      "text/plain": [
       "np.float64(350162.0)"
      ]
     },
     "execution_count": 11,
     "metadata": {},
     "output_type": "execute_result"
    }
   ],
   "source": [
    "df.groupby('Month Name')['Sales'].sum().sort_values(ascending=False).head(1)[0].round()"
   ]
  },
  {
   "cell_type": "code",
   "execution_count": 12,
   "id": "6e5ffac3-5474-46e7-a951-34289359f12c",
   "metadata": {},
   "outputs": [
    {
     "name": "stderr",
     "output_type": "stream",
     "text": [
      "C:\\Users\\kiro\\AppData\\Local\\Temp\\ipykernel_8864\\2513595027.py:1: FutureWarning: Series.__getitem__ treating keys as positions is deprecated. In a future version, integer keys will always be treated as labels (consistent with DataFrame behavior). To access a value by position, use `ser.iloc[pos]`\n",
      "  df.groupby('Product Name')['Sales'].sum().sort_values(ascending=False).head(1)[0].round()\n"
     ]
    },
    {
     "data": {
      "text/plain": [
       "np.float64(61600.0)"
      ]
     },
     "execution_count": 12,
     "metadata": {},
     "output_type": "execute_result"
    }
   ],
   "source": [
    "df.groupby('Product Name')['Sales'].sum().sort_values(ascending=False).head(1)[0].round()"
   ]
  },
  {
   "cell_type": "code",
   "execution_count": 13,
   "id": "e0667e8c-34a5-43c6-800b-e66ff65bfbbe",
   "metadata": {},
   "outputs": [],
   "source": [
    "top_days=df.groupby('Day')['Sales'].sum().astype(int).sort_values(ascending=False).round()"
   ]
  },
  {
   "cell_type": "code",
   "execution_count": 14,
   "id": "bab27d8a-d7d5-494d-87a2-1de3f10b43f7",
   "metadata": {},
   "outputs": [
    {
     "ename": "KeyboardInterrupt",
     "evalue": "",
     "output_type": "error",
     "traceback": [
      "\u001b[1;31m---------------------------------------------------------------------------\u001b[0m",
      "\u001b[1;31mKeyError\u001b[0m                                  Traceback (most recent call last)",
      "File \u001b[1;32m<frozen importlib._bootstrap_external>:1512\u001b[0m, in \u001b[0;36m_path_importer_cache\u001b[1;34m(cls, path)\u001b[0m\n",
      "\u001b[1;31mKeyError\u001b[0m: 'C:\\\\Users\\\\kiro\\\\AppData\\\\Local\\\\Programs\\\\Python\\\\Python313\\\\Lib\\\\site-packages\\\\plotly\\\\graph_objs\\\\histogram\\\\marker'",
      "\nDuring handling of the above exception, another exception occurred:\n",
      "\u001b[1;31mKeyboardInterrupt\u001b[0m                         Traceback (most recent call last)",
      "Cell \u001b[1;32mIn[14], line 2\u001b[0m\n\u001b[0;32m      1\u001b[0m \u001b[38;5;28;01mimport\u001b[39;00m \u001b[38;5;21;01mplotly\u001b[39;00m\u001b[38;5;21;01m.\u001b[39;00m\u001b[38;5;21;01mexpress\u001b[39;00m \u001b[38;5;28;01mas\u001b[39;00m \u001b[38;5;21;01mpx\u001b[39;00m\n\u001b[1;32m----> 2\u001b[0m fig1\u001b[38;5;241m=\u001b[39m\u001b[43mpx\u001b[49m\u001b[38;5;241;43m.\u001b[39;49m\u001b[43mline\u001b[49m\u001b[43m(\u001b[49m\u001b[43mtop_days\u001b[49m\u001b[43m,\u001b[49m\n\u001b[0;32m      3\u001b[0m \u001b[43m            \u001b[49m\u001b[43mtitle\u001b[49m\u001b[38;5;241;43m=\u001b[39;49m\u001b[38;5;124;43m'\u001b[39;49m\u001b[38;5;124;43mTotal Sales Among Each Day\u001b[39;49m\u001b[38;5;124;43m'\u001b[39;49m\u001b[43m)\u001b[49m\n",
      "File \u001b[1;32m~\\AppData\\Local\\Programs\\Python\\Python313\\Lib\\site-packages\\plotly\\express\\_chart_types.py:264\u001b[0m, in \u001b[0;36mline\u001b[1;34m(data_frame, x, y, line_group, color, line_dash, symbol, hover_name, hover_data, custom_data, text, facet_row, facet_col, facet_col_wrap, facet_row_spacing, facet_col_spacing, error_x, error_x_minus, error_y, error_y_minus, animation_frame, animation_group, category_orders, labels, orientation, color_discrete_sequence, color_discrete_map, line_dash_sequence, line_dash_map, symbol_sequence, symbol_map, markers, log_x, log_y, range_x, range_y, line_shape, render_mode, title, template, width, height)\u001b[0m\n\u001b[0;32m    216\u001b[0m \u001b[38;5;28;01mdef\u001b[39;00m \u001b[38;5;21mline\u001b[39m(\n\u001b[0;32m    217\u001b[0m     data_frame\u001b[38;5;241m=\u001b[39m\u001b[38;5;28;01mNone\u001b[39;00m,\n\u001b[0;32m    218\u001b[0m     x\u001b[38;5;241m=\u001b[39m\u001b[38;5;28;01mNone\u001b[39;00m,\n\u001b[1;32m   (...)\u001b[0m\n\u001b[0;32m    258\u001b[0m     height\u001b[38;5;241m=\u001b[39m\u001b[38;5;28;01mNone\u001b[39;00m,\n\u001b[0;32m    259\u001b[0m ) \u001b[38;5;241m-\u001b[39m\u001b[38;5;241m>\u001b[39m go\u001b[38;5;241m.\u001b[39mFigure:\n\u001b[0;32m    260\u001b[0m \u001b[38;5;250m    \u001b[39m\u001b[38;5;124;03m\"\"\"\u001b[39;00m\n\u001b[0;32m    261\u001b[0m \u001b[38;5;124;03m    In a 2D line plot, each row of `data_frame` is represented as vertex of\u001b[39;00m\n\u001b[0;32m    262\u001b[0m \u001b[38;5;124;03m    a polyline mark in 2D space.\u001b[39;00m\n\u001b[0;32m    263\u001b[0m \u001b[38;5;124;03m    \"\"\"\u001b[39;00m\n\u001b[1;32m--> 264\u001b[0m     \u001b[38;5;28;01mreturn\u001b[39;00m \u001b[43mmake_figure\u001b[49m\u001b[43m(\u001b[49m\u001b[43margs\u001b[49m\u001b[38;5;241;43m=\u001b[39;49m\u001b[38;5;28;43mlocals\u001b[39;49m\u001b[43m(\u001b[49m\u001b[43m)\u001b[49m\u001b[43m,\u001b[49m\u001b[43m \u001b[49m\u001b[43mconstructor\u001b[49m\u001b[38;5;241;43m=\u001b[39;49m\u001b[43mgo\u001b[49m\u001b[38;5;241;43m.\u001b[39;49m\u001b[43mScatter\u001b[49m\u001b[43m)\u001b[49m\n",
      "File \u001b[1;32m~\\AppData\\Local\\Programs\\Python\\Python313\\Lib\\site-packages\\plotly\\express\\_core.py:2383\u001b[0m, in \u001b[0;36mmake_figure\u001b[1;34m(args, constructor, trace_patch, layout_patch)\u001b[0m\n\u001b[0;32m   2381\u001b[0m fig\u001b[38;5;241m.\u001b[39mupdate_layout(layout_patch)\n\u001b[0;32m   2382\u001b[0m \u001b[38;5;28;01mif\u001b[39;00m \u001b[38;5;124m\"\u001b[39m\u001b[38;5;124mtemplate\u001b[39m\u001b[38;5;124m\"\u001b[39m \u001b[38;5;129;01min\u001b[39;00m args \u001b[38;5;129;01mand\u001b[39;00m args[\u001b[38;5;124m\"\u001b[39m\u001b[38;5;124mtemplate\u001b[39m\u001b[38;5;124m\"\u001b[39m] \u001b[38;5;129;01mis\u001b[39;00m \u001b[38;5;129;01mnot\u001b[39;00m \u001b[38;5;28;01mNone\u001b[39;00m:\n\u001b[1;32m-> 2383\u001b[0m     \u001b[43mfig\u001b[49m\u001b[38;5;241;43m.\u001b[39;49m\u001b[43mupdate_layout\u001b[49m\u001b[43m(\u001b[49m\u001b[43mtemplate\u001b[49m\u001b[38;5;241;43m=\u001b[39;49m\u001b[43margs\u001b[49m\u001b[43m[\u001b[49m\u001b[38;5;124;43m\"\u001b[39;49m\u001b[38;5;124;43mtemplate\u001b[39;49m\u001b[38;5;124;43m\"\u001b[39;49m\u001b[43m]\u001b[49m\u001b[43m,\u001b[49m\u001b[43m \u001b[49m\u001b[43moverwrite\u001b[49m\u001b[38;5;241;43m=\u001b[39;49m\u001b[38;5;28;43;01mTrue\u001b[39;49;00m\u001b[43m)\u001b[49m\n\u001b[0;32m   2384\u001b[0m \u001b[38;5;28;01mfor\u001b[39;00m f \u001b[38;5;129;01min\u001b[39;00m frame_list:\n\u001b[0;32m   2385\u001b[0m     f[\u001b[38;5;124m\"\u001b[39m\u001b[38;5;124mname\u001b[39m\u001b[38;5;124m\"\u001b[39m] \u001b[38;5;241m=\u001b[39m \u001b[38;5;28mstr\u001b[39m(f[\u001b[38;5;124m\"\u001b[39m\u001b[38;5;124mname\u001b[39m\u001b[38;5;124m\"\u001b[39m])\n",
      "File \u001b[1;32m~\\AppData\\Local\\Programs\\Python\\Python313\\Lib\\site-packages\\plotly\\graph_objs\\_figure.py:792\u001b[0m, in \u001b[0;36mFigure.update_layout\u001b[1;34m(self, dict1, overwrite, **kwargs)\u001b[0m\n\u001b[0;32m    766\u001b[0m \u001b[38;5;28;01mdef\u001b[39;00m \u001b[38;5;21mupdate_layout\u001b[39m(\u001b[38;5;28mself\u001b[39m, dict1\u001b[38;5;241m=\u001b[39m\u001b[38;5;28;01mNone\u001b[39;00m, overwrite\u001b[38;5;241m=\u001b[39m\u001b[38;5;28;01mFalse\u001b[39;00m, \u001b[38;5;241m*\u001b[39m\u001b[38;5;241m*\u001b[39mkwargs) \u001b[38;5;241m-\u001b[39m\u001b[38;5;241m>\u001b[39m \u001b[38;5;124m\"\u001b[39m\u001b[38;5;124mFigure\u001b[39m\u001b[38;5;124m\"\u001b[39m:\n\u001b[0;32m    767\u001b[0m \u001b[38;5;250m    \u001b[39m\u001b[38;5;124;03m\"\"\"\u001b[39;00m\n\u001b[0;32m    768\u001b[0m \n\u001b[0;32m    769\u001b[0m \u001b[38;5;124;03m    Update the properties of the figure's layout with a dict and/or with\u001b[39;00m\n\u001b[1;32m   (...)\u001b[0m\n\u001b[0;32m    790\u001b[0m \n\u001b[0;32m    791\u001b[0m \u001b[38;5;124;03m    \"\"\"\u001b[39;00m\n\u001b[1;32m--> 792\u001b[0m     \u001b[38;5;28;01mreturn\u001b[39;00m \u001b[38;5;28;43msuper\u001b[39;49m\u001b[43m(\u001b[49m\u001b[43mFigure\u001b[49m\u001b[43m,\u001b[49m\u001b[43m \u001b[49m\u001b[38;5;28;43mself\u001b[39;49m\u001b[43m)\u001b[49m\u001b[38;5;241;43m.\u001b[39;49m\u001b[43mupdate_layout\u001b[49m\u001b[43m(\u001b[49m\u001b[43mdict1\u001b[49m\u001b[43m,\u001b[49m\u001b[43m \u001b[49m\u001b[43moverwrite\u001b[49m\u001b[43m,\u001b[49m\u001b[43m \u001b[49m\u001b[38;5;241;43m*\u001b[39;49m\u001b[38;5;241;43m*\u001b[39;49m\u001b[43mkwargs\u001b[49m\u001b[43m)\u001b[49m\n",
      "File \u001b[1;32m~\\AppData\\Local\\Programs\\Python\\Python313\\Lib\\site-packages\\plotly\\basedatatypes.py:1391\u001b[0m, in \u001b[0;36mBaseFigure.update_layout\u001b[1;34m(self, dict1, overwrite, **kwargs)\u001b[0m\n\u001b[0;32m   1367\u001b[0m \u001b[38;5;28;01mdef\u001b[39;00m \u001b[38;5;21mupdate_layout\u001b[39m(\u001b[38;5;28mself\u001b[39m, dict1\u001b[38;5;241m=\u001b[39m\u001b[38;5;28;01mNone\u001b[39;00m, overwrite\u001b[38;5;241m=\u001b[39m\u001b[38;5;28;01mFalse\u001b[39;00m, \u001b[38;5;241m*\u001b[39m\u001b[38;5;241m*\u001b[39mkwargs):\n\u001b[0;32m   1368\u001b[0m \u001b[38;5;250m    \u001b[39m\u001b[38;5;124;03m\"\"\"\u001b[39;00m\n\u001b[0;32m   1369\u001b[0m \u001b[38;5;124;03m    Update the properties of the figure's layout with a dict and/or with\u001b[39;00m\n\u001b[0;32m   1370\u001b[0m \u001b[38;5;124;03m    keyword arguments.\u001b[39;00m\n\u001b[1;32m   (...)\u001b[0m\n\u001b[0;32m   1389\u001b[0m \u001b[38;5;124;03m        The Figure object that the update_layout method was called on\u001b[39;00m\n\u001b[0;32m   1390\u001b[0m \u001b[38;5;124;03m    \"\"\"\u001b[39;00m\n\u001b[1;32m-> 1391\u001b[0m     \u001b[38;5;28;43mself\u001b[39;49m\u001b[38;5;241;43m.\u001b[39;49m\u001b[43mlayout\u001b[49m\u001b[38;5;241;43m.\u001b[39;49m\u001b[43mupdate\u001b[49m\u001b[43m(\u001b[49m\u001b[43mdict1\u001b[49m\u001b[43m,\u001b[49m\u001b[43m \u001b[49m\u001b[43moverwrite\u001b[49m\u001b[38;5;241;43m=\u001b[39;49m\u001b[43moverwrite\u001b[49m\u001b[43m,\u001b[49m\u001b[43m \u001b[49m\u001b[38;5;241;43m*\u001b[39;49m\u001b[38;5;241;43m*\u001b[39;49m\u001b[43mkwargs\u001b[49m\u001b[43m)\u001b[49m\n\u001b[0;32m   1392\u001b[0m     \u001b[38;5;28;01mreturn\u001b[39;00m \u001b[38;5;28mself\u001b[39m\n",
      "File \u001b[1;32m~\\AppData\\Local\\Programs\\Python\\Python313\\Lib\\site-packages\\plotly\\basedatatypes.py:5131\u001b[0m, in \u001b[0;36mBasePlotlyType.update\u001b[1;34m(self, dict1, overwrite, **kwargs)\u001b[0m\n\u001b[0;32m   5129\u001b[0m     \u001b[38;5;28;01mwith\u001b[39;00m \u001b[38;5;28mself\u001b[39m\u001b[38;5;241m.\u001b[39mfigure\u001b[38;5;241m.\u001b[39mbatch_update():\n\u001b[0;32m   5130\u001b[0m         BaseFigure\u001b[38;5;241m.\u001b[39m_perform_update(\u001b[38;5;28mself\u001b[39m, dict1, overwrite\u001b[38;5;241m=\u001b[39moverwrite)\n\u001b[1;32m-> 5131\u001b[0m         \u001b[43mBaseFigure\u001b[49m\u001b[38;5;241;43m.\u001b[39;49m\u001b[43m_perform_update\u001b[49m\u001b[43m(\u001b[49m\u001b[38;5;28;43mself\u001b[39;49m\u001b[43m,\u001b[49m\u001b[43m \u001b[49m\u001b[43mkwargs\u001b[49m\u001b[43m,\u001b[49m\u001b[43m \u001b[49m\u001b[43moverwrite\u001b[49m\u001b[38;5;241;43m=\u001b[39;49m\u001b[43moverwrite\u001b[49m\u001b[43m)\u001b[49m\n\u001b[0;32m   5132\u001b[0m \u001b[38;5;28;01melse\u001b[39;00m:\n\u001b[0;32m   5133\u001b[0m     BaseFigure\u001b[38;5;241m.\u001b[39m_perform_update(\u001b[38;5;28mself\u001b[39m, dict1, overwrite\u001b[38;5;241m=\u001b[39moverwrite)\n",
      "File \u001b[1;32m~\\AppData\\Local\\Programs\\Python\\Python313\\Lib\\site-packages\\plotly\\basedatatypes.py:3904\u001b[0m, in \u001b[0;36mBaseFigure._perform_update\u001b[1;34m(plotly_obj, update_obj, overwrite)\u001b[0m\n\u001b[0;32m   3900\u001b[0m val \u001b[38;5;241m=\u001b[39m update_obj[key]\n\u001b[0;32m   3902\u001b[0m \u001b[38;5;28;01mif\u001b[39;00m overwrite:\n\u001b[0;32m   3903\u001b[0m     \u001b[38;5;66;03m# Don't recurse and assign property as-is\u001b[39;00m\n\u001b[1;32m-> 3904\u001b[0m     \u001b[43mplotly_obj\u001b[49m\u001b[43m[\u001b[49m\u001b[43mkey\u001b[49m\u001b[43m]\u001b[49m \u001b[38;5;241m=\u001b[39m val\n\u001b[0;32m   3905\u001b[0m     \u001b[38;5;28;01mcontinue\u001b[39;00m\n\u001b[0;32m   3907\u001b[0m validator \u001b[38;5;241m=\u001b[39m plotly_obj\u001b[38;5;241m.\u001b[39m_get_prop_validator(key)\n",
      "File \u001b[1;32m~\\AppData\\Local\\Programs\\Python\\Python313\\Lib\\site-packages\\plotly\\basedatatypes.py:5906\u001b[0m, in \u001b[0;36mBaseLayoutType.__setitem__\u001b[1;34m(self, prop, value)\u001b[0m\n\u001b[0;32m   5903\u001b[0m match \u001b[38;5;241m=\u001b[39m \u001b[38;5;28mself\u001b[39m\u001b[38;5;241m.\u001b[39m_subplot_re_match(prop)\n\u001b[0;32m   5904\u001b[0m \u001b[38;5;28;01mif\u001b[39;00m match \u001b[38;5;129;01mis\u001b[39;00m \u001b[38;5;28;01mNone\u001b[39;00m:\n\u001b[0;32m   5905\u001b[0m     \u001b[38;5;66;03m# Set as ordinary property\u001b[39;00m\n\u001b[1;32m-> 5906\u001b[0m     \u001b[38;5;28;43msuper\u001b[39;49m\u001b[43m(\u001b[49m\u001b[43mBaseLayoutHierarchyType\u001b[49m\u001b[43m,\u001b[49m\u001b[43m \u001b[49m\u001b[38;5;28;43mself\u001b[39;49m\u001b[43m)\u001b[49m\u001b[38;5;241;43m.\u001b[39;49m\u001b[38;5;21;43m__setitem__\u001b[39;49m\u001b[43m(\u001b[49m\u001b[43mprop\u001b[49m\u001b[43m,\u001b[49m\u001b[43m \u001b[49m\u001b[43mvalue\u001b[49m\u001b[43m)\u001b[49m\n\u001b[0;32m   5907\u001b[0m \u001b[38;5;28;01melse\u001b[39;00m:\n\u001b[0;32m   5908\u001b[0m     \u001b[38;5;66;03m# Set as subplotid property\u001b[39;00m\n\u001b[0;32m   5909\u001b[0m     \u001b[38;5;28mself\u001b[39m\u001b[38;5;241m.\u001b[39m_set_subplotid_prop(prop, value)\n",
      "File \u001b[1;32m~\\AppData\\Local\\Programs\\Python\\Python313\\Lib\\site-packages\\plotly\\basedatatypes.py:4860\u001b[0m, in \u001b[0;36mBasePlotlyType.__setitem__\u001b[1;34m(self, prop, value)\u001b[0m\n\u001b[0;32m   4858\u001b[0m \u001b[38;5;66;03m# ### Handle compound property ###\u001b[39;00m\n\u001b[0;32m   4859\u001b[0m \u001b[38;5;28;01mif\u001b[39;00m \u001b[38;5;28misinstance\u001b[39m(validator, CompoundValidator):\n\u001b[1;32m-> 4860\u001b[0m     \u001b[38;5;28;43mself\u001b[39;49m\u001b[38;5;241;43m.\u001b[39;49m\u001b[43m_set_compound_prop\u001b[49m\u001b[43m(\u001b[49m\u001b[43mprop\u001b[49m\u001b[43m,\u001b[49m\u001b[43m \u001b[49m\u001b[43mvalue\u001b[49m\u001b[43m)\u001b[49m\n\u001b[0;32m   4862\u001b[0m \u001b[38;5;66;03m# ### Handle compound array property ###\u001b[39;00m\n\u001b[0;32m   4863\u001b[0m \u001b[38;5;28;01melif\u001b[39;00m \u001b[38;5;28misinstance\u001b[39m(validator, (CompoundArrayValidator, BaseDataValidator)):\n",
      "File \u001b[1;32m~\\AppData\\Local\\Programs\\Python\\Python313\\Lib\\site-packages\\plotly\\basedatatypes.py:5271\u001b[0m, in \u001b[0;36mBasePlotlyType._set_compound_prop\u001b[1;34m(self, prop, val)\u001b[0m\n\u001b[0;32m   5268\u001b[0m \u001b[38;5;66;03m# Import value\u001b[39;00m\n\u001b[0;32m   5269\u001b[0m \u001b[38;5;66;03m# ------------\u001b[39;00m\n\u001b[0;32m   5270\u001b[0m validator \u001b[38;5;241m=\u001b[39m \u001b[38;5;28mself\u001b[39m\u001b[38;5;241m.\u001b[39m_get_validator(prop)\n\u001b[1;32m-> 5271\u001b[0m val \u001b[38;5;241m=\u001b[39m \u001b[43mvalidator\u001b[49m\u001b[38;5;241;43m.\u001b[39;49m\u001b[43mvalidate_coerce\u001b[49m\u001b[43m(\u001b[49m\u001b[43mval\u001b[49m\u001b[43m,\u001b[49m\u001b[43m \u001b[49m\u001b[43mskip_invalid\u001b[49m\u001b[38;5;241;43m=\u001b[39;49m\u001b[38;5;28;43mself\u001b[39;49m\u001b[38;5;241;43m.\u001b[39;49m\u001b[43m_skip_invalid\u001b[49m\u001b[43m)\u001b[49m\n\u001b[0;32m   5273\u001b[0m \u001b[38;5;66;03m# Save deep copies of current and new states\u001b[39;00m\n\u001b[0;32m   5274\u001b[0m \u001b[38;5;66;03m# ------------------------------------------\u001b[39;00m\n\u001b[0;32m   5275\u001b[0m curr_val \u001b[38;5;241m=\u001b[39m \u001b[38;5;28mself\u001b[39m\u001b[38;5;241m.\u001b[39m_compound_props\u001b[38;5;241m.\u001b[39mget(prop, \u001b[38;5;28;01mNone\u001b[39;00m)\n",
      "File \u001b[1;32m~\\AppData\\Local\\Programs\\Python\\Python313\\Lib\\site-packages\\_plotly_utils\\basevalidators.py:2805\u001b[0m, in \u001b[0;36mBaseTemplateValidator.validate_coerce\u001b[1;34m(self, v, skip_invalid)\u001b[0m\n\u001b[0;32m   2799\u001b[0m \u001b[38;5;28;01mif\u001b[39;00m v \u001b[38;5;241m==\u001b[39m {} \u001b[38;5;129;01mor\u001b[39;00m \u001b[38;5;28misinstance\u001b[39m(v, \u001b[38;5;28mself\u001b[39m\u001b[38;5;241m.\u001b[39mdata_class) \u001b[38;5;129;01mand\u001b[39;00m v\u001b[38;5;241m.\u001b[39mto_plotly_json() \u001b[38;5;241m==\u001b[39m {}:\n\u001b[0;32m   2800\u001b[0m     \u001b[38;5;66;03m# Replace empty template with {'data': {'scatter': [{}]}} so that we can\u001b[39;00m\n\u001b[0;32m   2801\u001b[0m     \u001b[38;5;66;03m# tell the difference between an un-initialized template and a template\u001b[39;00m\n\u001b[0;32m   2802\u001b[0m     \u001b[38;5;66;03m# explicitly set to empty.\u001b[39;00m\n\u001b[0;32m   2803\u001b[0m     \u001b[38;5;28;01mreturn\u001b[39;00m \u001b[38;5;28mself\u001b[39m\u001b[38;5;241m.\u001b[39mdata_class(data_scatter\u001b[38;5;241m=\u001b[39m[{}])\n\u001b[1;32m-> 2805\u001b[0m \u001b[38;5;28;01mreturn\u001b[39;00m \u001b[38;5;28;43msuper\u001b[39;49m\u001b[43m(\u001b[49m\u001b[43mBaseTemplateValidator\u001b[49m\u001b[43m,\u001b[49m\u001b[43m \u001b[49m\u001b[38;5;28;43mself\u001b[39;49m\u001b[43m)\u001b[49m\u001b[38;5;241;43m.\u001b[39;49m\u001b[43mvalidate_coerce\u001b[49m\u001b[43m(\u001b[49m\n\u001b[0;32m   2806\u001b[0m \u001b[43m    \u001b[49m\u001b[43mv\u001b[49m\u001b[43m,\u001b[49m\u001b[43m \u001b[49m\u001b[43mskip_invalid\u001b[49m\u001b[38;5;241;43m=\u001b[39;49m\u001b[43mskip_invalid\u001b[49m\n\u001b[0;32m   2807\u001b[0m \u001b[43m\u001b[49m\u001b[43m)\u001b[49m\n",
      "File \u001b[1;32m~\\AppData\\Local\\Programs\\Python\\Python313\\Lib\\site-packages\\_plotly_utils\\basevalidators.py:2516\u001b[0m, in \u001b[0;36mCompoundValidator.validate_coerce\u001b[1;34m(self, v, skip_invalid, _validate)\u001b[0m\n\u001b[0;32m   2512\u001b[0m     v \u001b[38;5;241m=\u001b[39m \u001b[38;5;28mself\u001b[39m\u001b[38;5;241m.\u001b[39mdata_class(v, skip_invalid\u001b[38;5;241m=\u001b[39mskip_invalid, _validate\u001b[38;5;241m=\u001b[39m_validate)\n\u001b[0;32m   2514\u001b[0m \u001b[38;5;28;01melif\u001b[39;00m \u001b[38;5;28misinstance\u001b[39m(v, \u001b[38;5;28mself\u001b[39m\u001b[38;5;241m.\u001b[39mdata_class):\n\u001b[0;32m   2515\u001b[0m     \u001b[38;5;66;03m# Copy object\u001b[39;00m\n\u001b[1;32m-> 2516\u001b[0m     v \u001b[38;5;241m=\u001b[39m \u001b[38;5;28;43mself\u001b[39;49m\u001b[38;5;241;43m.\u001b[39;49m\u001b[43mdata_class\u001b[49m\u001b[43m(\u001b[49m\u001b[43mv\u001b[49m\u001b[43m)\u001b[49m\n\u001b[0;32m   2517\u001b[0m \u001b[38;5;28;01melse\u001b[39;00m:\n\u001b[0;32m   2518\u001b[0m     \u001b[38;5;28;01mif\u001b[39;00m skip_invalid:\n",
      "File \u001b[1;32m~\\AppData\\Local\\Programs\\Python\\Python313\\Lib\\site-packages\\plotly\\graph_objs\\layout\\_template.py:335\u001b[0m, in \u001b[0;36mTemplate.__init__\u001b[1;34m(self, arg, data, layout, **kwargs)\u001b[0m\n\u001b[0;32m    333\u001b[0m _v \u001b[38;5;241m=\u001b[39m data \u001b[38;5;28;01mif\u001b[39;00m data \u001b[38;5;129;01mis\u001b[39;00m \u001b[38;5;129;01mnot\u001b[39;00m \u001b[38;5;28;01mNone\u001b[39;00m \u001b[38;5;28;01melse\u001b[39;00m _v\n\u001b[0;32m    334\u001b[0m \u001b[38;5;28;01mif\u001b[39;00m _v \u001b[38;5;129;01mis\u001b[39;00m \u001b[38;5;129;01mnot\u001b[39;00m \u001b[38;5;28;01mNone\u001b[39;00m:\n\u001b[1;32m--> 335\u001b[0m     \u001b[38;5;28;43mself\u001b[39;49m\u001b[43m[\u001b[49m\u001b[38;5;124;43m\"\u001b[39;49m\u001b[38;5;124;43mdata\u001b[39;49m\u001b[38;5;124;43m\"\u001b[39;49m\u001b[43m]\u001b[49m \u001b[38;5;241m=\u001b[39m _v\n\u001b[0;32m    336\u001b[0m _v \u001b[38;5;241m=\u001b[39m arg\u001b[38;5;241m.\u001b[39mpop(\u001b[38;5;124m\"\u001b[39m\u001b[38;5;124mlayout\u001b[39m\u001b[38;5;124m\"\u001b[39m, \u001b[38;5;28;01mNone\u001b[39;00m)\n\u001b[0;32m    337\u001b[0m _v \u001b[38;5;241m=\u001b[39m layout \u001b[38;5;28;01mif\u001b[39;00m layout \u001b[38;5;129;01mis\u001b[39;00m \u001b[38;5;129;01mnot\u001b[39;00m \u001b[38;5;28;01mNone\u001b[39;00m \u001b[38;5;28;01melse\u001b[39;00m _v\n",
      "File \u001b[1;32m~\\AppData\\Local\\Programs\\Python\\Python313\\Lib\\site-packages\\plotly\\basedatatypes.py:4860\u001b[0m, in \u001b[0;36mBasePlotlyType.__setitem__\u001b[1;34m(self, prop, value)\u001b[0m\n\u001b[0;32m   4858\u001b[0m \u001b[38;5;66;03m# ### Handle compound property ###\u001b[39;00m\n\u001b[0;32m   4859\u001b[0m \u001b[38;5;28;01mif\u001b[39;00m \u001b[38;5;28misinstance\u001b[39m(validator, CompoundValidator):\n\u001b[1;32m-> 4860\u001b[0m     \u001b[38;5;28;43mself\u001b[39;49m\u001b[38;5;241;43m.\u001b[39;49m\u001b[43m_set_compound_prop\u001b[49m\u001b[43m(\u001b[49m\u001b[43mprop\u001b[49m\u001b[43m,\u001b[49m\u001b[43m \u001b[49m\u001b[43mvalue\u001b[49m\u001b[43m)\u001b[49m\n\u001b[0;32m   4862\u001b[0m \u001b[38;5;66;03m# ### Handle compound array property ###\u001b[39;00m\n\u001b[0;32m   4863\u001b[0m \u001b[38;5;28;01melif\u001b[39;00m \u001b[38;5;28misinstance\u001b[39m(validator, (CompoundArrayValidator, BaseDataValidator)):\n",
      "File \u001b[1;32m~\\AppData\\Local\\Programs\\Python\\Python313\\Lib\\site-packages\\plotly\\basedatatypes.py:5271\u001b[0m, in \u001b[0;36mBasePlotlyType._set_compound_prop\u001b[1;34m(self, prop, val)\u001b[0m\n\u001b[0;32m   5268\u001b[0m \u001b[38;5;66;03m# Import value\u001b[39;00m\n\u001b[0;32m   5269\u001b[0m \u001b[38;5;66;03m# ------------\u001b[39;00m\n\u001b[0;32m   5270\u001b[0m validator \u001b[38;5;241m=\u001b[39m \u001b[38;5;28mself\u001b[39m\u001b[38;5;241m.\u001b[39m_get_validator(prop)\n\u001b[1;32m-> 5271\u001b[0m val \u001b[38;5;241m=\u001b[39m \u001b[43mvalidator\u001b[49m\u001b[38;5;241;43m.\u001b[39;49m\u001b[43mvalidate_coerce\u001b[49m\u001b[43m(\u001b[49m\u001b[43mval\u001b[49m\u001b[43m,\u001b[49m\u001b[43m \u001b[49m\u001b[43mskip_invalid\u001b[49m\u001b[38;5;241;43m=\u001b[39;49m\u001b[38;5;28;43mself\u001b[39;49m\u001b[38;5;241;43m.\u001b[39;49m\u001b[43m_skip_invalid\u001b[49m\u001b[43m)\u001b[49m\n\u001b[0;32m   5273\u001b[0m \u001b[38;5;66;03m# Save deep copies of current and new states\u001b[39;00m\n\u001b[0;32m   5274\u001b[0m \u001b[38;5;66;03m# ------------------------------------------\u001b[39;00m\n\u001b[0;32m   5275\u001b[0m curr_val \u001b[38;5;241m=\u001b[39m \u001b[38;5;28mself\u001b[39m\u001b[38;5;241m.\u001b[39m_compound_props\u001b[38;5;241m.\u001b[39mget(prop, \u001b[38;5;28;01mNone\u001b[39;00m)\n",
      "File \u001b[1;32m~\\AppData\\Local\\Programs\\Python\\Python313\\Lib\\site-packages\\_plotly_utils\\basevalidators.py:2512\u001b[0m, in \u001b[0;36mCompoundValidator.validate_coerce\u001b[1;34m(self, v, skip_invalid, _validate)\u001b[0m\n\u001b[0;32m   2509\u001b[0m     v \u001b[38;5;241m=\u001b[39m \u001b[38;5;28mself\u001b[39m\u001b[38;5;241m.\u001b[39mdata_class()\n\u001b[0;32m   2511\u001b[0m \u001b[38;5;28;01melif\u001b[39;00m \u001b[38;5;28misinstance\u001b[39m(v, \u001b[38;5;28mdict\u001b[39m):\n\u001b[1;32m-> 2512\u001b[0m     v \u001b[38;5;241m=\u001b[39m \u001b[38;5;28;43mself\u001b[39;49m\u001b[38;5;241;43m.\u001b[39;49m\u001b[43mdata_class\u001b[49m\u001b[43m(\u001b[49m\u001b[43mv\u001b[49m\u001b[43m,\u001b[49m\u001b[43m \u001b[49m\u001b[43mskip_invalid\u001b[49m\u001b[38;5;241;43m=\u001b[39;49m\u001b[43mskip_invalid\u001b[49m\u001b[43m,\u001b[49m\u001b[43m \u001b[49m\u001b[43m_validate\u001b[49m\u001b[38;5;241;43m=\u001b[39;49m\u001b[43m_validate\u001b[49m\u001b[43m)\u001b[49m\n\u001b[0;32m   2514\u001b[0m \u001b[38;5;28;01melif\u001b[39;00m \u001b[38;5;28misinstance\u001b[39m(v, \u001b[38;5;28mself\u001b[39m\u001b[38;5;241m.\u001b[39mdata_class):\n\u001b[0;32m   2515\u001b[0m     \u001b[38;5;66;03m# Copy object\u001b[39;00m\n\u001b[0;32m   2516\u001b[0m     v \u001b[38;5;241m=\u001b[39m \u001b[38;5;28mself\u001b[39m\u001b[38;5;241m.\u001b[39mdata_class(v)\n",
      "File \u001b[1;32m~\\AppData\\Local\\Programs\\Python\\Python313\\Lib\\site-packages\\plotly\\graph_objs\\layout\\template\\_data.py:1733\u001b[0m, in \u001b[0;36mData.__init__\u001b[1;34m(self, arg, barpolar, bar, box, candlestick, carpet, choroplethmapbox, choroplethmap, choropleth, cone, contourcarpet, contour, densitymapbox, densitymap, funnelarea, funnel, heatmapgl, heatmap, histogram2dcontour, histogram2d, histogram, icicle, image, indicator, isosurface, mesh3d, ohlc, parcats, parcoords, pie, pointcloud, sankey, scatter3d, scattercarpet, scattergeo, scattergl, scattermapbox, scattermap, scatterpolargl, scatterpolar, scatter, scattersmith, scatterternary, splom, streamtube, sunburst, surface, table, treemap, violin, volume, waterfall, **kwargs)\u001b[0m\n\u001b[0;32m   1731\u001b[0m _v \u001b[38;5;241m=\u001b[39m histogram \u001b[38;5;28;01mif\u001b[39;00m histogram \u001b[38;5;129;01mis\u001b[39;00m \u001b[38;5;129;01mnot\u001b[39;00m \u001b[38;5;28;01mNone\u001b[39;00m \u001b[38;5;28;01melse\u001b[39;00m _v\n\u001b[0;32m   1732\u001b[0m \u001b[38;5;28;01mif\u001b[39;00m _v \u001b[38;5;129;01mis\u001b[39;00m \u001b[38;5;129;01mnot\u001b[39;00m \u001b[38;5;28;01mNone\u001b[39;00m:\n\u001b[1;32m-> 1733\u001b[0m     \u001b[38;5;28;43mself\u001b[39;49m\u001b[43m[\u001b[49m\u001b[38;5;124;43m\"\u001b[39;49m\u001b[38;5;124;43mhistogram\u001b[39;49m\u001b[38;5;124;43m\"\u001b[39;49m\u001b[43m]\u001b[49m \u001b[38;5;241m=\u001b[39m _v\n\u001b[0;32m   1734\u001b[0m _v \u001b[38;5;241m=\u001b[39m arg\u001b[38;5;241m.\u001b[39mpop(\u001b[38;5;124m\"\u001b[39m\u001b[38;5;124micicle\u001b[39m\u001b[38;5;124m\"\u001b[39m, \u001b[38;5;28;01mNone\u001b[39;00m)\n\u001b[0;32m   1735\u001b[0m _v \u001b[38;5;241m=\u001b[39m icicle \u001b[38;5;28;01mif\u001b[39;00m icicle \u001b[38;5;129;01mis\u001b[39;00m \u001b[38;5;129;01mnot\u001b[39;00m \u001b[38;5;28;01mNone\u001b[39;00m \u001b[38;5;28;01melse\u001b[39;00m _v\n",
      "File \u001b[1;32m~\\AppData\\Local\\Programs\\Python\\Python313\\Lib\\site-packages\\plotly\\basedatatypes.py:4864\u001b[0m, in \u001b[0;36mBasePlotlyType.__setitem__\u001b[1;34m(self, prop, value)\u001b[0m\n\u001b[0;32m   4862\u001b[0m \u001b[38;5;66;03m# ### Handle compound array property ###\u001b[39;00m\n\u001b[0;32m   4863\u001b[0m \u001b[38;5;28;01melif\u001b[39;00m \u001b[38;5;28misinstance\u001b[39m(validator, (CompoundArrayValidator, BaseDataValidator)):\n\u001b[1;32m-> 4864\u001b[0m     \u001b[38;5;28;43mself\u001b[39;49m\u001b[38;5;241;43m.\u001b[39;49m\u001b[43m_set_array_prop\u001b[49m\u001b[43m(\u001b[49m\u001b[43mprop\u001b[49m\u001b[43m,\u001b[49m\u001b[43m \u001b[49m\u001b[43mvalue\u001b[49m\u001b[43m)\u001b[49m\n\u001b[0;32m   4866\u001b[0m \u001b[38;5;66;03m# ### Handle simple property ###\u001b[39;00m\n\u001b[0;32m   4867\u001b[0m \u001b[38;5;28;01melse\u001b[39;00m:\n\u001b[0;32m   4868\u001b[0m     \u001b[38;5;28mself\u001b[39m\u001b[38;5;241m.\u001b[39m_set_prop(prop, value)\n",
      "File \u001b[1;32m~\\AppData\\Local\\Programs\\Python\\Python313\\Lib\\site-packages\\plotly\\basedatatypes.py:5345\u001b[0m, in \u001b[0;36mBasePlotlyType._set_array_prop\u001b[1;34m(self, prop, val)\u001b[0m\n\u001b[0;32m   5342\u001b[0m \u001b[38;5;66;03m# Import value\u001b[39;00m\n\u001b[0;32m   5343\u001b[0m \u001b[38;5;66;03m# ------------\u001b[39;00m\n\u001b[0;32m   5344\u001b[0m validator \u001b[38;5;241m=\u001b[39m \u001b[38;5;28mself\u001b[39m\u001b[38;5;241m.\u001b[39m_get_validator(prop)\n\u001b[1;32m-> 5345\u001b[0m val \u001b[38;5;241m=\u001b[39m \u001b[43mvalidator\u001b[49m\u001b[38;5;241;43m.\u001b[39;49m\u001b[43mvalidate_coerce\u001b[49m\u001b[43m(\u001b[49m\u001b[43mval\u001b[49m\u001b[43m,\u001b[49m\u001b[43m \u001b[49m\u001b[43mskip_invalid\u001b[49m\u001b[38;5;241;43m=\u001b[39;49m\u001b[38;5;28;43mself\u001b[39;49m\u001b[38;5;241;43m.\u001b[39;49m\u001b[43m_skip_invalid\u001b[49m\u001b[43m)\u001b[49m\n\u001b[0;32m   5347\u001b[0m \u001b[38;5;66;03m# Save deep copies of current and new states\u001b[39;00m\n\u001b[0;32m   5348\u001b[0m \u001b[38;5;66;03m# ------------------------------------------\u001b[39;00m\n\u001b[0;32m   5349\u001b[0m curr_val \u001b[38;5;241m=\u001b[39m \u001b[38;5;28mself\u001b[39m\u001b[38;5;241m.\u001b[39m_compound_array_props\u001b[38;5;241m.\u001b[39mget(prop, \u001b[38;5;28;01mNone\u001b[39;00m)\n",
      "File \u001b[1;32m~\\AppData\\Local\\Programs\\Python\\Python313\\Lib\\site-packages\\_plotly_utils\\basevalidators.py:2604\u001b[0m, in \u001b[0;36mCompoundArrayValidator.validate_coerce\u001b[1;34m(self, v, skip_invalid)\u001b[0m\n\u001b[0;32m   2602\u001b[0m     res\u001b[38;5;241m.\u001b[39mappend(\u001b[38;5;28mself\u001b[39m\u001b[38;5;241m.\u001b[39mdata_class(v_el))\n\u001b[0;32m   2603\u001b[0m \u001b[38;5;28;01melif\u001b[39;00m \u001b[38;5;28misinstance\u001b[39m(v_el, \u001b[38;5;28mdict\u001b[39m):\n\u001b[1;32m-> 2604\u001b[0m     res\u001b[38;5;241m.\u001b[39mappend(\u001b[38;5;28;43mself\u001b[39;49m\u001b[38;5;241;43m.\u001b[39;49m\u001b[43mdata_class\u001b[49m\u001b[43m(\u001b[49m\u001b[43mv_el\u001b[49m\u001b[43m,\u001b[49m\u001b[43m \u001b[49m\u001b[43mskip_invalid\u001b[49m\u001b[38;5;241;43m=\u001b[39;49m\u001b[43mskip_invalid\u001b[49m\u001b[43m)\u001b[49m)\n\u001b[0;32m   2605\u001b[0m \u001b[38;5;28;01melse\u001b[39;00m:\n\u001b[0;32m   2606\u001b[0m     \u001b[38;5;28;01mif\u001b[39;00m skip_invalid:\n",
      "File \u001b[1;32m~\\AppData\\Local\\Programs\\Python\\Python313\\Lib\\site-packages\\plotly\\graph_objs\\_histogram.py:3179\u001b[0m, in \u001b[0;36mHistogram.__init__\u001b[1;34m(self, arg, alignmentgroup, autobinx, autobiny, bingroup, cliponaxis, constraintext, cumulative, customdata, customdatasrc, error_x, error_y, histfunc, histnorm, hoverinfo, hoverinfosrc, hoverlabel, hovertemplate, hovertemplatesrc, hovertext, hovertextsrc, ids, idssrc, insidetextanchor, insidetextfont, legend, legendgroup, legendgrouptitle, legendrank, legendwidth, marker, meta, metasrc, name, nbinsx, nbinsy, offsetgroup, opacity, orientation, outsidetextfont, selected, selectedpoints, showlegend, stream, text, textangle, textfont, textposition, textsrc, texttemplate, uid, uirevision, unselected, visible, x, xaxis, xbins, xcalendar, xhoverformat, xsrc, y, yaxis, ybins, ycalendar, yhoverformat, ysrc, zorder, **kwargs)\u001b[0m\n\u001b[0;32m   3177\u001b[0m _v \u001b[38;5;241m=\u001b[39m marker \u001b[38;5;28;01mif\u001b[39;00m marker \u001b[38;5;129;01mis\u001b[39;00m \u001b[38;5;129;01mnot\u001b[39;00m \u001b[38;5;28;01mNone\u001b[39;00m \u001b[38;5;28;01melse\u001b[39;00m _v\n\u001b[0;32m   3178\u001b[0m \u001b[38;5;28;01mif\u001b[39;00m _v \u001b[38;5;129;01mis\u001b[39;00m \u001b[38;5;129;01mnot\u001b[39;00m \u001b[38;5;28;01mNone\u001b[39;00m:\n\u001b[1;32m-> 3179\u001b[0m     \u001b[38;5;28;43mself\u001b[39;49m\u001b[43m[\u001b[49m\u001b[38;5;124;43m\"\u001b[39;49m\u001b[38;5;124;43mmarker\u001b[39;49m\u001b[38;5;124;43m\"\u001b[39;49m\u001b[43m]\u001b[49m \u001b[38;5;241m=\u001b[39m _v\n\u001b[0;32m   3180\u001b[0m _v \u001b[38;5;241m=\u001b[39m arg\u001b[38;5;241m.\u001b[39mpop(\u001b[38;5;124m\"\u001b[39m\u001b[38;5;124mmeta\u001b[39m\u001b[38;5;124m\"\u001b[39m, \u001b[38;5;28;01mNone\u001b[39;00m)\n\u001b[0;32m   3181\u001b[0m _v \u001b[38;5;241m=\u001b[39m meta \u001b[38;5;28;01mif\u001b[39;00m meta \u001b[38;5;129;01mis\u001b[39;00m \u001b[38;5;129;01mnot\u001b[39;00m \u001b[38;5;28;01mNone\u001b[39;00m \u001b[38;5;28;01melse\u001b[39;00m _v\n",
      "File \u001b[1;32m~\\AppData\\Local\\Programs\\Python\\Python313\\Lib\\site-packages\\plotly\\basedatatypes.py:4860\u001b[0m, in \u001b[0;36mBasePlotlyType.__setitem__\u001b[1;34m(self, prop, value)\u001b[0m\n\u001b[0;32m   4858\u001b[0m \u001b[38;5;66;03m# ### Handle compound property ###\u001b[39;00m\n\u001b[0;32m   4859\u001b[0m \u001b[38;5;28;01mif\u001b[39;00m \u001b[38;5;28misinstance\u001b[39m(validator, CompoundValidator):\n\u001b[1;32m-> 4860\u001b[0m     \u001b[38;5;28;43mself\u001b[39;49m\u001b[38;5;241;43m.\u001b[39;49m\u001b[43m_set_compound_prop\u001b[49m\u001b[43m(\u001b[49m\u001b[43mprop\u001b[49m\u001b[43m,\u001b[49m\u001b[43m \u001b[49m\u001b[43mvalue\u001b[49m\u001b[43m)\u001b[49m\n\u001b[0;32m   4862\u001b[0m \u001b[38;5;66;03m# ### Handle compound array property ###\u001b[39;00m\n\u001b[0;32m   4863\u001b[0m \u001b[38;5;28;01melif\u001b[39;00m \u001b[38;5;28misinstance\u001b[39m(validator, (CompoundArrayValidator, BaseDataValidator)):\n",
      "File \u001b[1;32m~\\AppData\\Local\\Programs\\Python\\Python313\\Lib\\site-packages\\plotly\\basedatatypes.py:5271\u001b[0m, in \u001b[0;36mBasePlotlyType._set_compound_prop\u001b[1;34m(self, prop, val)\u001b[0m\n\u001b[0;32m   5268\u001b[0m \u001b[38;5;66;03m# Import value\u001b[39;00m\n\u001b[0;32m   5269\u001b[0m \u001b[38;5;66;03m# ------------\u001b[39;00m\n\u001b[0;32m   5270\u001b[0m validator \u001b[38;5;241m=\u001b[39m \u001b[38;5;28mself\u001b[39m\u001b[38;5;241m.\u001b[39m_get_validator(prop)\n\u001b[1;32m-> 5271\u001b[0m val \u001b[38;5;241m=\u001b[39m \u001b[43mvalidator\u001b[49m\u001b[38;5;241;43m.\u001b[39;49m\u001b[43mvalidate_coerce\u001b[49m\u001b[43m(\u001b[49m\u001b[43mval\u001b[49m\u001b[43m,\u001b[49m\u001b[43m \u001b[49m\u001b[43mskip_invalid\u001b[49m\u001b[38;5;241;43m=\u001b[39;49m\u001b[38;5;28;43mself\u001b[39;49m\u001b[38;5;241;43m.\u001b[39;49m\u001b[43m_skip_invalid\u001b[49m\u001b[43m)\u001b[49m\n\u001b[0;32m   5273\u001b[0m \u001b[38;5;66;03m# Save deep copies of current and new states\u001b[39;00m\n\u001b[0;32m   5274\u001b[0m \u001b[38;5;66;03m# ------------------------------------------\u001b[39;00m\n\u001b[0;32m   5275\u001b[0m curr_val \u001b[38;5;241m=\u001b[39m \u001b[38;5;28mself\u001b[39m\u001b[38;5;241m.\u001b[39m_compound_props\u001b[38;5;241m.\u001b[39mget(prop, \u001b[38;5;28;01mNone\u001b[39;00m)\n",
      "File \u001b[1;32m~\\AppData\\Local\\Programs\\Python\\Python313\\Lib\\site-packages\\_plotly_utils\\basevalidators.py:2512\u001b[0m, in \u001b[0;36mCompoundValidator.validate_coerce\u001b[1;34m(self, v, skip_invalid, _validate)\u001b[0m\n\u001b[0;32m   2509\u001b[0m     v \u001b[38;5;241m=\u001b[39m \u001b[38;5;28mself\u001b[39m\u001b[38;5;241m.\u001b[39mdata_class()\n\u001b[0;32m   2511\u001b[0m \u001b[38;5;28;01melif\u001b[39;00m \u001b[38;5;28misinstance\u001b[39m(v, \u001b[38;5;28mdict\u001b[39m):\n\u001b[1;32m-> 2512\u001b[0m     v \u001b[38;5;241m=\u001b[39m \u001b[38;5;28;43mself\u001b[39;49m\u001b[38;5;241;43m.\u001b[39;49m\u001b[43mdata_class\u001b[49m\u001b[43m(\u001b[49m\u001b[43mv\u001b[49m\u001b[43m,\u001b[49m\u001b[43m \u001b[49m\u001b[43mskip_invalid\u001b[49m\u001b[38;5;241;43m=\u001b[39;49m\u001b[43mskip_invalid\u001b[49m\u001b[43m,\u001b[49m\u001b[43m \u001b[49m\u001b[43m_validate\u001b[49m\u001b[38;5;241;43m=\u001b[39;49m\u001b[43m_validate\u001b[49m\u001b[43m)\u001b[49m\n\u001b[0;32m   2514\u001b[0m \u001b[38;5;28;01melif\u001b[39;00m \u001b[38;5;28misinstance\u001b[39m(v, \u001b[38;5;28mself\u001b[39m\u001b[38;5;241m.\u001b[39mdata_class):\n\u001b[0;32m   2515\u001b[0m     \u001b[38;5;66;03m# Copy object\u001b[39;00m\n\u001b[0;32m   2516\u001b[0m     v \u001b[38;5;241m=\u001b[39m \u001b[38;5;28mself\u001b[39m\u001b[38;5;241m.\u001b[39mdata_class(v)\n",
      "File \u001b[1;32m~\\AppData\\Local\\Programs\\Python\\Python313\\Lib\\site-packages\\plotly\\graph_objs\\histogram\\_marker.py:1232\u001b[0m, in \u001b[0;36mMarker.__init__\u001b[1;34m(self, arg, autocolorscale, cauto, cmax, cmid, cmin, color, coloraxis, colorbar, colorscale, colorsrc, cornerradius, line, opacity, opacitysrc, pattern, reversescale, showscale, **kwargs)\u001b[0m\n\u001b[0;32m   1230\u001b[0m _v \u001b[38;5;241m=\u001b[39m pattern \u001b[38;5;28;01mif\u001b[39;00m pattern \u001b[38;5;129;01mis\u001b[39;00m \u001b[38;5;129;01mnot\u001b[39;00m \u001b[38;5;28;01mNone\u001b[39;00m \u001b[38;5;28;01melse\u001b[39;00m _v\n\u001b[0;32m   1231\u001b[0m \u001b[38;5;28;01mif\u001b[39;00m _v \u001b[38;5;129;01mis\u001b[39;00m \u001b[38;5;129;01mnot\u001b[39;00m \u001b[38;5;28;01mNone\u001b[39;00m:\n\u001b[1;32m-> 1232\u001b[0m     \u001b[38;5;28;43mself\u001b[39;49m\u001b[43m[\u001b[49m\u001b[38;5;124;43m\"\u001b[39;49m\u001b[38;5;124;43mpattern\u001b[39;49m\u001b[38;5;124;43m\"\u001b[39;49m\u001b[43m]\u001b[49m \u001b[38;5;241m=\u001b[39m _v\n\u001b[0;32m   1233\u001b[0m _v \u001b[38;5;241m=\u001b[39m arg\u001b[38;5;241m.\u001b[39mpop(\u001b[38;5;124m\"\u001b[39m\u001b[38;5;124mreversescale\u001b[39m\u001b[38;5;124m\"\u001b[39m, \u001b[38;5;28;01mNone\u001b[39;00m)\n\u001b[0;32m   1234\u001b[0m _v \u001b[38;5;241m=\u001b[39m reversescale \u001b[38;5;28;01mif\u001b[39;00m reversescale \u001b[38;5;129;01mis\u001b[39;00m \u001b[38;5;129;01mnot\u001b[39;00m \u001b[38;5;28;01mNone\u001b[39;00m \u001b[38;5;28;01melse\u001b[39;00m _v\n",
      "File \u001b[1;32m~\\AppData\\Local\\Programs\\Python\\Python313\\Lib\\site-packages\\plotly\\basedatatypes.py:4860\u001b[0m, in \u001b[0;36mBasePlotlyType.__setitem__\u001b[1;34m(self, prop, value)\u001b[0m\n\u001b[0;32m   4858\u001b[0m \u001b[38;5;66;03m# ### Handle compound property ###\u001b[39;00m\n\u001b[0;32m   4859\u001b[0m \u001b[38;5;28;01mif\u001b[39;00m \u001b[38;5;28misinstance\u001b[39m(validator, CompoundValidator):\n\u001b[1;32m-> 4860\u001b[0m     \u001b[38;5;28;43mself\u001b[39;49m\u001b[38;5;241;43m.\u001b[39;49m\u001b[43m_set_compound_prop\u001b[49m\u001b[43m(\u001b[49m\u001b[43mprop\u001b[49m\u001b[43m,\u001b[49m\u001b[43m \u001b[49m\u001b[43mvalue\u001b[49m\u001b[43m)\u001b[49m\n\u001b[0;32m   4862\u001b[0m \u001b[38;5;66;03m# ### Handle compound array property ###\u001b[39;00m\n\u001b[0;32m   4863\u001b[0m \u001b[38;5;28;01melif\u001b[39;00m \u001b[38;5;28misinstance\u001b[39m(validator, (CompoundArrayValidator, BaseDataValidator)):\n",
      "File \u001b[1;32m~\\AppData\\Local\\Programs\\Python\\Python313\\Lib\\site-packages\\plotly\\basedatatypes.py:5271\u001b[0m, in \u001b[0;36mBasePlotlyType._set_compound_prop\u001b[1;34m(self, prop, val)\u001b[0m\n\u001b[0;32m   5268\u001b[0m \u001b[38;5;66;03m# Import value\u001b[39;00m\n\u001b[0;32m   5269\u001b[0m \u001b[38;5;66;03m# ------------\u001b[39;00m\n\u001b[0;32m   5270\u001b[0m validator \u001b[38;5;241m=\u001b[39m \u001b[38;5;28mself\u001b[39m\u001b[38;5;241m.\u001b[39m_get_validator(prop)\n\u001b[1;32m-> 5271\u001b[0m val \u001b[38;5;241m=\u001b[39m \u001b[43mvalidator\u001b[49m\u001b[38;5;241;43m.\u001b[39;49m\u001b[43mvalidate_coerce\u001b[49m\u001b[43m(\u001b[49m\u001b[43mval\u001b[49m\u001b[43m,\u001b[49m\u001b[43m \u001b[49m\u001b[43mskip_invalid\u001b[49m\u001b[38;5;241;43m=\u001b[39;49m\u001b[38;5;28;43mself\u001b[39;49m\u001b[38;5;241;43m.\u001b[39;49m\u001b[43m_skip_invalid\u001b[49m\u001b[43m)\u001b[49m\n\u001b[0;32m   5273\u001b[0m \u001b[38;5;66;03m# Save deep copies of current and new states\u001b[39;00m\n\u001b[0;32m   5274\u001b[0m \u001b[38;5;66;03m# ------------------------------------------\u001b[39;00m\n\u001b[0;32m   5275\u001b[0m curr_val \u001b[38;5;241m=\u001b[39m \u001b[38;5;28mself\u001b[39m\u001b[38;5;241m.\u001b[39m_compound_props\u001b[38;5;241m.\u001b[39mget(prop, \u001b[38;5;28;01mNone\u001b[39;00m)\n",
      "File \u001b[1;32m~\\AppData\\Local\\Programs\\Python\\Python313\\Lib\\site-packages\\_plotly_utils\\basevalidators.py:2512\u001b[0m, in \u001b[0;36mCompoundValidator.validate_coerce\u001b[1;34m(self, v, skip_invalid, _validate)\u001b[0m\n\u001b[0;32m   2509\u001b[0m     v \u001b[38;5;241m=\u001b[39m \u001b[38;5;28mself\u001b[39m\u001b[38;5;241m.\u001b[39mdata_class()\n\u001b[0;32m   2511\u001b[0m \u001b[38;5;28;01melif\u001b[39;00m \u001b[38;5;28misinstance\u001b[39m(v, \u001b[38;5;28mdict\u001b[39m):\n\u001b[1;32m-> 2512\u001b[0m     v \u001b[38;5;241m=\u001b[39m \u001b[38;5;28;43mself\u001b[39;49m\u001b[38;5;241;43m.\u001b[39;49m\u001b[43mdata_class\u001b[49m(v, skip_invalid\u001b[38;5;241m=\u001b[39mskip_invalid, _validate\u001b[38;5;241m=\u001b[39m_validate)\n\u001b[0;32m   2514\u001b[0m \u001b[38;5;28;01melif\u001b[39;00m \u001b[38;5;28misinstance\u001b[39m(v, \u001b[38;5;28mself\u001b[39m\u001b[38;5;241m.\u001b[39mdata_class):\n\u001b[0;32m   2515\u001b[0m     \u001b[38;5;66;03m# Copy object\u001b[39;00m\n\u001b[0;32m   2516\u001b[0m     v \u001b[38;5;241m=\u001b[39m \u001b[38;5;28mself\u001b[39m\u001b[38;5;241m.\u001b[39mdata_class(v)\n",
      "File \u001b[1;32m~\\AppData\\Local\\Programs\\Python\\Python313\\Lib\\site-packages\\_plotly_utils\\basevalidators.py:2482\u001b[0m, in \u001b[0;36mCompoundValidator.data_class\u001b[1;34m(self)\u001b[0m\n\u001b[0;32m   2480\u001b[0m \u001b[38;5;28;01mif\u001b[39;00m \u001b[38;5;28mself\u001b[39m\u001b[38;5;241m.\u001b[39m_data_class \u001b[38;5;129;01mis\u001b[39;00m \u001b[38;5;28;01mNone\u001b[39;00m:\n\u001b[0;32m   2481\u001b[0m     module \u001b[38;5;241m=\u001b[39m import_module(\u001b[38;5;28mself\u001b[39m\u001b[38;5;241m.\u001b[39mmodule_str)\n\u001b[1;32m-> 2482\u001b[0m     \u001b[38;5;28mself\u001b[39m\u001b[38;5;241m.\u001b[39m_data_class \u001b[38;5;241m=\u001b[39m \u001b[38;5;28;43mgetattr\u001b[39;49m\u001b[43m(\u001b[49m\u001b[43mmodule\u001b[49m\u001b[43m,\u001b[49m\u001b[43m \u001b[49m\u001b[38;5;28;43mself\u001b[39;49m\u001b[38;5;241;43m.\u001b[39;49m\u001b[43mdata_class_str\u001b[49m\u001b[43m)\u001b[49m\n\u001b[0;32m   2484\u001b[0m \u001b[38;5;28;01mreturn\u001b[39;00m \u001b[38;5;28mself\u001b[39m\u001b[38;5;241m.\u001b[39m_data_class\n",
      "File \u001b[1;32m~\\AppData\\Local\\Programs\\Python\\Python313\\Lib\\site-packages\\_plotly_utils\\importers.py:36\u001b[0m, in \u001b[0;36mrelative_import.<locals>.__getattr__\u001b[1;34m(import_name)\u001b[0m\n\u001b[0;32m     34\u001b[0m     rel_module \u001b[38;5;241m=\u001b[39m \u001b[38;5;124m\"\u001b[39m\u001b[38;5;124m.\u001b[39m\u001b[38;5;124m\"\u001b[39m\u001b[38;5;241m.\u001b[39mjoin(rel_path_parts[:\u001b[38;5;241m-\u001b[39m\u001b[38;5;241m1\u001b[39m])\n\u001b[0;32m     35\u001b[0m     class_name \u001b[38;5;241m=\u001b[39m import_name\n\u001b[1;32m---> 36\u001b[0m     class_module \u001b[38;5;241m=\u001b[39m \u001b[43mimportlib\u001b[49m\u001b[38;5;241;43m.\u001b[39;49m\u001b[43mimport_module\u001b[49m\u001b[43m(\u001b[49m\u001b[43mrel_module\u001b[49m\u001b[43m,\u001b[49m\u001b[43m \u001b[49m\u001b[43mparent_name\u001b[49m\u001b[43m)\u001b[49m\n\u001b[0;32m     37\u001b[0m     \u001b[38;5;28;01mreturn\u001b[39;00m \u001b[38;5;28mgetattr\u001b[39m(class_module, class_name)\n\u001b[0;32m     39\u001b[0m \u001b[38;5;28;01mraise\u001b[39;00m \u001b[38;5;167;01mAttributeError\u001b[39;00m(\n\u001b[0;32m     40\u001b[0m     \u001b[38;5;124m\"\u001b[39m\u001b[38;5;124mmodule \u001b[39m\u001b[38;5;132;01m{__name__!r}\u001b[39;00m\u001b[38;5;124m has no attribute \u001b[39m\u001b[38;5;132;01m{name!r}\u001b[39;00m\u001b[38;5;124m\"\u001b[39m\u001b[38;5;241m.\u001b[39mformat(\n\u001b[0;32m     41\u001b[0m         name\u001b[38;5;241m=\u001b[39mimport_name, \u001b[38;5;18m__name__\u001b[39m\u001b[38;5;241m=\u001b[39mparent_name\n\u001b[0;32m     42\u001b[0m     )\n\u001b[0;32m     43\u001b[0m )\n",
      "File \u001b[1;32m~\\AppData\\Local\\Programs\\Python\\Python313\\Lib\\importlib\\__init__.py:88\u001b[0m, in \u001b[0;36mimport_module\u001b[1;34m(name, package)\u001b[0m\n\u001b[0;32m     86\u001b[0m             \u001b[38;5;28;01mbreak\u001b[39;00m\n\u001b[0;32m     87\u001b[0m         level \u001b[38;5;241m+\u001b[39m\u001b[38;5;241m=\u001b[39m \u001b[38;5;241m1\u001b[39m\n\u001b[1;32m---> 88\u001b[0m \u001b[38;5;28;01mreturn\u001b[39;00m \u001b[43m_bootstrap\u001b[49m\u001b[38;5;241;43m.\u001b[39;49m\u001b[43m_gcd_import\u001b[49m\u001b[43m(\u001b[49m\u001b[43mname\u001b[49m\u001b[43m[\u001b[49m\u001b[43mlevel\u001b[49m\u001b[43m:\u001b[49m\u001b[43m]\u001b[49m\u001b[43m,\u001b[49m\u001b[43m \u001b[49m\u001b[43mpackage\u001b[49m\u001b[43m,\u001b[49m\u001b[43m \u001b[49m\u001b[43mlevel\u001b[49m\u001b[43m)\u001b[49m\n",
      "File \u001b[1;32m<frozen importlib._bootstrap>:1387\u001b[0m, in \u001b[0;36m_gcd_import\u001b[1;34m(name, package, level)\u001b[0m\n",
      "File \u001b[1;32m<frozen importlib._bootstrap>:1360\u001b[0m, in \u001b[0;36m_find_and_load\u001b[1;34m(name, import_)\u001b[0m\n",
      "File \u001b[1;32m<frozen importlib._bootstrap>:1322\u001b[0m, in \u001b[0;36m_find_and_load_unlocked\u001b[1;34m(name, import_)\u001b[0m\n",
      "File \u001b[1;32m<frozen importlib._bootstrap>:1262\u001b[0m, in \u001b[0;36m_find_spec\u001b[1;34m(name, path, target)\u001b[0m\n",
      "File \u001b[1;32m<frozen importlib._bootstrap_external>:1555\u001b[0m, in \u001b[0;36mfind_spec\u001b[1;34m(cls, fullname, path, target)\u001b[0m\n",
      "File \u001b[1;32m<frozen importlib._bootstrap_external>:1527\u001b[0m, in \u001b[0;36m_get_spec\u001b[1;34m(cls, fullname, path, target)\u001b[0m\n",
      "File \u001b[1;32m<frozen importlib._bootstrap_external>:1514\u001b[0m, in \u001b[0;36m_path_importer_cache\u001b[1;34m(cls, path)\u001b[0m\n",
      "File \u001b[1;32m<frozen importlib._bootstrap_external>:1490\u001b[0m, in \u001b[0;36m_path_hooks\u001b[1;34m(path)\u001b[0m\n",
      "File \u001b[1;32m<frozen importlib._bootstrap_external>:1714\u001b[0m, in \u001b[0;36mpath_hook_for_FileFinder\u001b[1;34m(path)\u001b[0m\n",
      "File \u001b[1;32m<frozen importlib._bootstrap_external>:173\u001b[0m, in \u001b[0;36m_path_isdir\u001b[1;34m(path)\u001b[0m\n",
      "File \u001b[1;32m<frozen importlib._bootstrap_external>:158\u001b[0m, in \u001b[0;36m_path_is_mode_type\u001b[1;34m(path, mode)\u001b[0m\n",
      "File \u001b[1;32m<frozen importlib._bootstrap_external>:152\u001b[0m, in \u001b[0;36m_path_stat\u001b[1;34m(path)\u001b[0m\n",
      "\u001b[1;31mKeyboardInterrupt\u001b[0m: "
     ]
    }
   ],
   "source": [
    "import plotly.express as px\n",
    "fig1=px.line(top_days,\n",
    "            title='Total Sales Among Each Day')"
   ]
  },
  {
   "cell_type": "code",
   "execution_count": null,
   "id": "adb7478b-e323-48e3-b6c2-965917b7aac8",
   "metadata": {},
   "outputs": [],
   "source": [
    "fig1=px.line(top_days,)\n",
    "fig1.show()"
   ]
  },
  {
   "cell_type": "code",
   "execution_count": null,
   "id": "8cb22627-e8a5-4ba0-a19d-9ecafaf79dcf",
   "metadata": {},
   "outputs": [],
   "source": [
    "fig1=px.pie(df,\n",
    "           names='Category')\n",
    "fig1.update_layout(\n",
    "    title=\"Total Sales In Each Region\"\n",
    ")\n",
    "fig1.show()"
   ]
  },
  {
   "cell_type": "code",
   "execution_count": null,
   "id": "fd3f2a1d-2351-4b47-a450-86366890d757",
   "metadata": {},
   "outputs": [],
   "source": [
    "top_ship_mode = df.groupby('Day')['Sales'].sum().astype(int).sort_values(ascending=False).round()\n",
    "\n",
    "# Create a line plot with Plotly\n",
    "fig4 = go.Figure()\n",
    "\n",
    "# Adding a line with markers (pointers)\n",
    "fig4.add_trace(go.Scatter(\n",
    "    x=top_ship_mode.index,  # The 'Day' values (or 'Ship Modes' if applicable)\n",
    "    y=top_ship_mode.values,  # The sales values\n",
    "    mode='lines+markers',  # 'lines+markers' specifies both line and markers at data points\n",
    "    marker=dict(size=8, color=px.colors.qualitative.Bold[1])  # Pointers (markers) customization\n",
    "# Line color\n",
    "))\n",
    "\n",
    "# Update layout\n",
    "fig4.update_layout(\n",
    "    title=\"Total Sales In Each Ship Mode\",\n",
    "    xaxis_title=\"Ship Modes\",  # Change this label if it's not 'Ship Modes' and needs to reflect 'Days' or something else\n",
    "    yaxis_title=\"Sales\"\n",
    ")\n",
    "\n",
    "# Display the chart\n",
    "fig4.show()"
   ]
  },
  {
   "cell_type": "code",
   "execution_count": null,
   "id": "f4d0aec4-2c8d-416f-92d2-bf9d18010e39",
   "metadata": {},
   "outputs": [],
   "source": []
  }
 ],
 "metadata": {
  "kernelspec": {
   "display_name": "Python 3 (ipykernel)",
   "language": "python",
   "name": "python3"
  },
  "language_info": {
   "codemirror_mode": {
    "name": "ipython",
    "version": 3
   },
   "file_extension": ".py",
   "mimetype": "text/x-python",
   "name": "python",
   "nbconvert_exporter": "python",
   "pygments_lexer": "ipython3",
   "version": "3.13.0"
  },
  "widgets": {
   "application/vnd.jupyter.widget-state+json": {
    "state": {},
    "version_major": 2,
    "version_minor": 0
   }
  }
 },
 "nbformat": 4,
 "nbformat_minor": 5
}
